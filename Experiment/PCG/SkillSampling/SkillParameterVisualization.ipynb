{
 "cells": [
  {
   "cell_type": "code",
   "execution_count": 17,
   "metadata": {
    "collapsed": true
   },
   "outputs": [],
   "source": [
    "import pandas as pd\n",
    "import matplotlib.pyplot as plt\n",
    "from sklearn.decomposition import PCA\n",
    "from sklearn.manifold import TSNE\n",
    "import seaborn as sns\n",
    "from IPython.core.display import display, HTML\n",
    "import re"
   ]
  },
  {
   "cell_type": "code",
   "execution_count": 18,
   "outputs": [],
   "source": [
    "TARGET_WINRATE = [0.1, 0.2, 0.3, 0.4, 0.5, 0.6, 0.7]\n",
    "ROOT_PATH = '\\\\\\\\CILab_NAS_Data/homes/MMORPG/PCG/GeneratedSample'\n",
    "METHODS = {\n",
    "    'Random': 'random',\n",
    "    'Heuristic': 'heuristic',\n",
    "    'RL': 'heuristic',\n",
    "}\n",
    "\n"
   ],
   "metadata": {
    "collapsed": false,
    "pycharm": {
     "name": "#%%\n"
    }
   }
  },
  {
   "cell_type": "code",
   "execution_count": 19,
   "outputs": [
    {
     "ename": "FileNotFoundError",
     "evalue": "[Errno 2] No such file or directory: '\\\\\\\\CILab_NAS_Data/homes/MMORPG/PCG/GeneratedSample/SkillLog_pcg_winRate-0.1-1.0_random.csv'",
     "output_type": "error",
     "traceback": [
      "\u001B[1;31m---------------------------------------------------------------------------\u001B[0m",
      "\u001B[1;31mFileNotFoundError\u001B[0m                         Traceback (most recent call last)",
      "\u001B[1;32m~\\AppData\\Local\\Temp\\ipykernel_91600\\1758034573.py\u001B[0m in \u001B[0;36m<module>\u001B[1;34m\u001B[0m\n\u001B[0;32m      4\u001B[0m     \u001B[1;32mfor\u001B[0m \u001B[0mmethod_name\u001B[0m\u001B[1;33m,\u001B[0m \u001B[0mmethod_val\u001B[0m \u001B[1;32min\u001B[0m \u001B[0mMETHODS\u001B[0m\u001B[1;33m.\u001B[0m\u001B[0mitems\u001B[0m\u001B[1;33m(\u001B[0m\u001B[1;33m)\u001B[0m\u001B[1;33m:\u001B[0m\u001B[1;33m\u001B[0m\u001B[1;33m\u001B[0m\u001B[0m\n\u001B[0;32m      5\u001B[0m         \u001B[0mfile_path\u001B[0m \u001B[1;33m=\u001B[0m \u001B[1;34mf\"{ROOT_PATH}/SkillLog_pcg_winRate-{win_rate}-1.0_{method_val}.csv\"\u001B[0m\u001B[1;33m\u001B[0m\u001B[1;33m\u001B[0m\u001B[0m\n\u001B[1;32m----> 6\u001B[1;33m         \u001B[0mdf\u001B[0m \u001B[1;33m=\u001B[0m \u001B[0mpd\u001B[0m\u001B[1;33m.\u001B[0m\u001B[0mread_csv\u001B[0m\u001B[1;33m(\u001B[0m\u001B[0mfile_path\u001B[0m\u001B[1;33m)\u001B[0m\u001B[1;33m\u001B[0m\u001B[1;33m\u001B[0m\u001B[0m\n\u001B[0m\u001B[0;32m      7\u001B[0m         \u001B[0mdf\u001B[0m \u001B[1;33m=\u001B[0m \u001B[0mdf\u001B[0m\u001B[1;33m.\u001B[0m\u001B[0mgroupby\u001B[0m\u001B[1;33m(\u001B[0m\u001B[1;34m'EpisodeCount'\u001B[0m\u001B[1;33m)\u001B[0m\u001B[1;33m.\u001B[0m\u001B[0mlast\u001B[0m\u001B[1;33m(\u001B[0m\u001B[1;33m)\u001B[0m\u001B[1;33m\u001B[0m\u001B[1;33m\u001B[0m\u001B[0m\n\u001B[0;32m      8\u001B[0m         \u001B[0mdf\u001B[0m\u001B[1;33m.\u001B[0m\u001B[0mloc\u001B[0m\u001B[1;33m[\u001B[0m\u001B[1;33m:\u001B[0m\u001B[1;33m,\u001B[0m \u001B[1;34m'Method'\u001B[0m\u001B[1;33m]\u001B[0m \u001B[1;33m=\u001B[0m \u001B[0mmethod_name\u001B[0m\u001B[1;33m\u001B[0m\u001B[1;33m\u001B[0m\u001B[0m\n",
      "\u001B[1;32m~\\.conda\\envs\\mlagents\\lib\\site-packages\\pandas\\util\\_decorators.py\u001B[0m in \u001B[0;36mwrapper\u001B[1;34m(*args, **kwargs)\u001B[0m\n\u001B[0;32m    309\u001B[0m                     \u001B[0mstacklevel\u001B[0m\u001B[1;33m=\u001B[0m\u001B[0mstacklevel\u001B[0m\u001B[1;33m,\u001B[0m\u001B[1;33m\u001B[0m\u001B[1;33m\u001B[0m\u001B[0m\n\u001B[0;32m    310\u001B[0m                 )\n\u001B[1;32m--> 311\u001B[1;33m             \u001B[1;32mreturn\u001B[0m \u001B[0mfunc\u001B[0m\u001B[1;33m(\u001B[0m\u001B[1;33m*\u001B[0m\u001B[0margs\u001B[0m\u001B[1;33m,\u001B[0m \u001B[1;33m**\u001B[0m\u001B[0mkwargs\u001B[0m\u001B[1;33m)\u001B[0m\u001B[1;33m\u001B[0m\u001B[1;33m\u001B[0m\u001B[0m\n\u001B[0m\u001B[0;32m    312\u001B[0m \u001B[1;33m\u001B[0m\u001B[0m\n\u001B[0;32m    313\u001B[0m         \u001B[1;32mreturn\u001B[0m \u001B[0mwrapper\u001B[0m\u001B[1;33m\u001B[0m\u001B[1;33m\u001B[0m\u001B[0m\n",
      "\u001B[1;32m~\\.conda\\envs\\mlagents\\lib\\site-packages\\pandas\\io\\parsers\\readers.py\u001B[0m in \u001B[0;36mread_csv\u001B[1;34m(filepath_or_buffer, sep, delimiter, header, names, index_col, usecols, squeeze, prefix, mangle_dupe_cols, dtype, engine, converters, true_values, false_values, skipinitialspace, skiprows, skipfooter, nrows, na_values, keep_default_na, na_filter, verbose, skip_blank_lines, parse_dates, infer_datetime_format, keep_date_col, date_parser, dayfirst, cache_dates, iterator, chunksize, compression, thousands, decimal, lineterminator, quotechar, quoting, doublequote, escapechar, comment, encoding, encoding_errors, dialect, error_bad_lines, warn_bad_lines, on_bad_lines, delim_whitespace, low_memory, memory_map, float_precision, storage_options)\u001B[0m\n\u001B[0;32m    584\u001B[0m     \u001B[0mkwds\u001B[0m\u001B[1;33m.\u001B[0m\u001B[0mupdate\u001B[0m\u001B[1;33m(\u001B[0m\u001B[0mkwds_defaults\u001B[0m\u001B[1;33m)\u001B[0m\u001B[1;33m\u001B[0m\u001B[1;33m\u001B[0m\u001B[0m\n\u001B[0;32m    585\u001B[0m \u001B[1;33m\u001B[0m\u001B[0m\n\u001B[1;32m--> 586\u001B[1;33m     \u001B[1;32mreturn\u001B[0m \u001B[0m_read\u001B[0m\u001B[1;33m(\u001B[0m\u001B[0mfilepath_or_buffer\u001B[0m\u001B[1;33m,\u001B[0m \u001B[0mkwds\u001B[0m\u001B[1;33m)\u001B[0m\u001B[1;33m\u001B[0m\u001B[1;33m\u001B[0m\u001B[0m\n\u001B[0m\u001B[0;32m    587\u001B[0m \u001B[1;33m\u001B[0m\u001B[0m\n\u001B[0;32m    588\u001B[0m \u001B[1;33m\u001B[0m\u001B[0m\n",
      "\u001B[1;32m~\\.conda\\envs\\mlagents\\lib\\site-packages\\pandas\\io\\parsers\\readers.py\u001B[0m in \u001B[0;36m_read\u001B[1;34m(filepath_or_buffer, kwds)\u001B[0m\n\u001B[0;32m    480\u001B[0m \u001B[1;33m\u001B[0m\u001B[0m\n\u001B[0;32m    481\u001B[0m     \u001B[1;31m# Create the parser.\u001B[0m\u001B[1;33m\u001B[0m\u001B[1;33m\u001B[0m\u001B[1;33m\u001B[0m\u001B[0m\n\u001B[1;32m--> 482\u001B[1;33m     \u001B[0mparser\u001B[0m \u001B[1;33m=\u001B[0m \u001B[0mTextFileReader\u001B[0m\u001B[1;33m(\u001B[0m\u001B[0mfilepath_or_buffer\u001B[0m\u001B[1;33m,\u001B[0m \u001B[1;33m**\u001B[0m\u001B[0mkwds\u001B[0m\u001B[1;33m)\u001B[0m\u001B[1;33m\u001B[0m\u001B[1;33m\u001B[0m\u001B[0m\n\u001B[0m\u001B[0;32m    483\u001B[0m \u001B[1;33m\u001B[0m\u001B[0m\n\u001B[0;32m    484\u001B[0m     \u001B[1;32mif\u001B[0m \u001B[0mchunksize\u001B[0m \u001B[1;32mor\u001B[0m \u001B[0miterator\u001B[0m\u001B[1;33m:\u001B[0m\u001B[1;33m\u001B[0m\u001B[1;33m\u001B[0m\u001B[0m\n",
      "\u001B[1;32m~\\.conda\\envs\\mlagents\\lib\\site-packages\\pandas\\io\\parsers\\readers.py\u001B[0m in \u001B[0;36m__init__\u001B[1;34m(self, f, engine, **kwds)\u001B[0m\n\u001B[0;32m    809\u001B[0m             \u001B[0mself\u001B[0m\u001B[1;33m.\u001B[0m\u001B[0moptions\u001B[0m\u001B[1;33m[\u001B[0m\u001B[1;34m\"has_index_names\"\u001B[0m\u001B[1;33m]\u001B[0m \u001B[1;33m=\u001B[0m \u001B[0mkwds\u001B[0m\u001B[1;33m[\u001B[0m\u001B[1;34m\"has_index_names\"\u001B[0m\u001B[1;33m]\u001B[0m\u001B[1;33m\u001B[0m\u001B[1;33m\u001B[0m\u001B[0m\n\u001B[0;32m    810\u001B[0m \u001B[1;33m\u001B[0m\u001B[0m\n\u001B[1;32m--> 811\u001B[1;33m         \u001B[0mself\u001B[0m\u001B[1;33m.\u001B[0m\u001B[0m_engine\u001B[0m \u001B[1;33m=\u001B[0m \u001B[0mself\u001B[0m\u001B[1;33m.\u001B[0m\u001B[0m_make_engine\u001B[0m\u001B[1;33m(\u001B[0m\u001B[0mself\u001B[0m\u001B[1;33m.\u001B[0m\u001B[0mengine\u001B[0m\u001B[1;33m)\u001B[0m\u001B[1;33m\u001B[0m\u001B[1;33m\u001B[0m\u001B[0m\n\u001B[0m\u001B[0;32m    812\u001B[0m \u001B[1;33m\u001B[0m\u001B[0m\n\u001B[0;32m    813\u001B[0m     \u001B[1;32mdef\u001B[0m \u001B[0mclose\u001B[0m\u001B[1;33m(\u001B[0m\u001B[0mself\u001B[0m\u001B[1;33m)\u001B[0m\u001B[1;33m:\u001B[0m\u001B[1;33m\u001B[0m\u001B[1;33m\u001B[0m\u001B[0m\n",
      "\u001B[1;32m~\\.conda\\envs\\mlagents\\lib\\site-packages\\pandas\\io\\parsers\\readers.py\u001B[0m in \u001B[0;36m_make_engine\u001B[1;34m(self, engine)\u001B[0m\n\u001B[0;32m   1038\u001B[0m             )\n\u001B[0;32m   1039\u001B[0m         \u001B[1;31m# error: Too many arguments for \"ParserBase\"\u001B[0m\u001B[1;33m\u001B[0m\u001B[1;33m\u001B[0m\u001B[1;33m\u001B[0m\u001B[0m\n\u001B[1;32m-> 1040\u001B[1;33m         \u001B[1;32mreturn\u001B[0m \u001B[0mmapping\u001B[0m\u001B[1;33m[\u001B[0m\u001B[0mengine\u001B[0m\u001B[1;33m]\u001B[0m\u001B[1;33m(\u001B[0m\u001B[0mself\u001B[0m\u001B[1;33m.\u001B[0m\u001B[0mf\u001B[0m\u001B[1;33m,\u001B[0m \u001B[1;33m**\u001B[0m\u001B[0mself\u001B[0m\u001B[1;33m.\u001B[0m\u001B[0moptions\u001B[0m\u001B[1;33m)\u001B[0m  \u001B[1;31m# type: ignore[call-arg]\u001B[0m\u001B[1;33m\u001B[0m\u001B[1;33m\u001B[0m\u001B[0m\n\u001B[0m\u001B[0;32m   1041\u001B[0m \u001B[1;33m\u001B[0m\u001B[0m\n\u001B[0;32m   1042\u001B[0m     \u001B[1;32mdef\u001B[0m \u001B[0m_failover_to_python\u001B[0m\u001B[1;33m(\u001B[0m\u001B[0mself\u001B[0m\u001B[1;33m)\u001B[0m\u001B[1;33m:\u001B[0m\u001B[1;33m\u001B[0m\u001B[1;33m\u001B[0m\u001B[0m\n",
      "\u001B[1;32m~\\.conda\\envs\\mlagents\\lib\\site-packages\\pandas\\io\\parsers\\c_parser_wrapper.py\u001B[0m in \u001B[0;36m__init__\u001B[1;34m(self, src, **kwds)\u001B[0m\n\u001B[0;32m     49\u001B[0m \u001B[1;33m\u001B[0m\u001B[0m\n\u001B[0;32m     50\u001B[0m         \u001B[1;31m# open handles\u001B[0m\u001B[1;33m\u001B[0m\u001B[1;33m\u001B[0m\u001B[1;33m\u001B[0m\u001B[0m\n\u001B[1;32m---> 51\u001B[1;33m         \u001B[0mself\u001B[0m\u001B[1;33m.\u001B[0m\u001B[0m_open_handles\u001B[0m\u001B[1;33m(\u001B[0m\u001B[0msrc\u001B[0m\u001B[1;33m,\u001B[0m \u001B[0mkwds\u001B[0m\u001B[1;33m)\u001B[0m\u001B[1;33m\u001B[0m\u001B[1;33m\u001B[0m\u001B[0m\n\u001B[0m\u001B[0;32m     52\u001B[0m         \u001B[1;32massert\u001B[0m \u001B[0mself\u001B[0m\u001B[1;33m.\u001B[0m\u001B[0mhandles\u001B[0m \u001B[1;32mis\u001B[0m \u001B[1;32mnot\u001B[0m \u001B[1;32mNone\u001B[0m\u001B[1;33m\u001B[0m\u001B[1;33m\u001B[0m\u001B[0m\n\u001B[0;32m     53\u001B[0m \u001B[1;33m\u001B[0m\u001B[0m\n",
      "\u001B[1;32m~\\.conda\\envs\\mlagents\\lib\\site-packages\\pandas\\io\\parsers\\base_parser.py\u001B[0m in \u001B[0;36m_open_handles\u001B[1;34m(self, src, kwds)\u001B[0m\n\u001B[0;32m    227\u001B[0m             \u001B[0mmemory_map\u001B[0m\u001B[1;33m=\u001B[0m\u001B[0mkwds\u001B[0m\u001B[1;33m.\u001B[0m\u001B[0mget\u001B[0m\u001B[1;33m(\u001B[0m\u001B[1;34m\"memory_map\"\u001B[0m\u001B[1;33m,\u001B[0m \u001B[1;32mFalse\u001B[0m\u001B[1;33m)\u001B[0m\u001B[1;33m,\u001B[0m\u001B[1;33m\u001B[0m\u001B[1;33m\u001B[0m\u001B[0m\n\u001B[0;32m    228\u001B[0m             \u001B[0mstorage_options\u001B[0m\u001B[1;33m=\u001B[0m\u001B[0mkwds\u001B[0m\u001B[1;33m.\u001B[0m\u001B[0mget\u001B[0m\u001B[1;33m(\u001B[0m\u001B[1;34m\"storage_options\"\u001B[0m\u001B[1;33m,\u001B[0m \u001B[1;32mNone\u001B[0m\u001B[1;33m)\u001B[0m\u001B[1;33m,\u001B[0m\u001B[1;33m\u001B[0m\u001B[1;33m\u001B[0m\u001B[0m\n\u001B[1;32m--> 229\u001B[1;33m             \u001B[0merrors\u001B[0m\u001B[1;33m=\u001B[0m\u001B[0mkwds\u001B[0m\u001B[1;33m.\u001B[0m\u001B[0mget\u001B[0m\u001B[1;33m(\u001B[0m\u001B[1;34m\"encoding_errors\"\u001B[0m\u001B[1;33m,\u001B[0m \u001B[1;34m\"strict\"\u001B[0m\u001B[1;33m)\u001B[0m\u001B[1;33m,\u001B[0m\u001B[1;33m\u001B[0m\u001B[1;33m\u001B[0m\u001B[0m\n\u001B[0m\u001B[0;32m    230\u001B[0m         )\n\u001B[0;32m    231\u001B[0m \u001B[1;33m\u001B[0m\u001B[0m\n",
      "\u001B[1;32m~\\.conda\\envs\\mlagents\\lib\\site-packages\\pandas\\io\\common.py\u001B[0m in \u001B[0;36mget_handle\u001B[1;34m(path_or_buf, mode, encoding, compression, memory_map, is_text, errors, storage_options)\u001B[0m\n\u001B[0;32m    705\u001B[0m                 \u001B[0mencoding\u001B[0m\u001B[1;33m=\u001B[0m\u001B[0mioargs\u001B[0m\u001B[1;33m.\u001B[0m\u001B[0mencoding\u001B[0m\u001B[1;33m,\u001B[0m\u001B[1;33m\u001B[0m\u001B[1;33m\u001B[0m\u001B[0m\n\u001B[0;32m    706\u001B[0m                 \u001B[0merrors\u001B[0m\u001B[1;33m=\u001B[0m\u001B[0merrors\u001B[0m\u001B[1;33m,\u001B[0m\u001B[1;33m\u001B[0m\u001B[1;33m\u001B[0m\u001B[0m\n\u001B[1;32m--> 707\u001B[1;33m                 \u001B[0mnewline\u001B[0m\u001B[1;33m=\u001B[0m\u001B[1;34m\"\"\u001B[0m\u001B[1;33m,\u001B[0m\u001B[1;33m\u001B[0m\u001B[1;33m\u001B[0m\u001B[0m\n\u001B[0m\u001B[0;32m    708\u001B[0m             )\n\u001B[0;32m    709\u001B[0m         \u001B[1;32melse\u001B[0m\u001B[1;33m:\u001B[0m\u001B[1;33m\u001B[0m\u001B[1;33m\u001B[0m\u001B[0m\n",
      "\u001B[1;31mFileNotFoundError\u001B[0m: [Errno 2] No such file or directory: '\\\\\\\\CILab_NAS_Data/homes/MMORPG/PCG/GeneratedSample/SkillLog_pcg_winRate-0.1-1.0_random.csv'"
     ]
    }
   ],
   "source": [
    "dfs = []\n",
    "\n",
    "for win_rate in TARGET_WINRATE:\n",
    "    for method_name, method_val in METHODS.items():\n",
    "        file_path = f\"{ROOT_PATH}/SkillLog_pcg_winRate-{win_rate}-1.0_{method_val}.csv\"\n",
    "        df = pd.read_csv(file_path)\n",
    "        df = df.groupby('EpisodeCount').last()\n",
    "        df.loc[:, 'Method'] = method_name\n",
    "        df.loc[:, 'Target_WinRate'] = win_rate\n",
    "        dfs.append(df)\n",
    "\n",
    "df = pd.concat(dfs)\n",
    "df['Error_WinRate'] = df.apply(lambda x: abs(x['Result[0]'] - x['Target_WinRate']), axis=1)\n",
    "# df.drop(df[df.StepCount < 5].index, inplace=True)\n",
    "origin_df = df.copy()\n",
    "\n",
    "print(df.describe())\n",
    "print(len(df))\n",
    "\n",
    "df['StepCount'].hist()\n"
   ],
   "metadata": {
    "collapsed": false,
    "pycharm": {
     "name": "#%%\n"
    }
   }
  },
  {
   "cell_type": "code",
   "execution_count": null,
   "outputs": [],
   "source": [
    "CONTENT_INDEX = list(range(0, 20))\n",
    "CONTENT_INDEX"
   ],
   "metadata": {
    "collapsed": false,
    "pycharm": {
     "name": "#%%\n"
    }
   }
  },
  {
   "cell_type": "code",
   "execution_count": null,
   "outputs": [],
   "source": [
    "train_x = df[[f'Content[{idx}]' for idx in CONTENT_INDEX]]\n",
    "tsne = TSNE(n_components=1).fit_transform(train_x)\n",
    "tsne_df = pd.DataFrame({'axis-0': tsne[:, 0], 'Method': df['Method']})\n",
    "\n",
    "plt.figure(figsize=(8, 6))\n",
    "sns.scatterplot(\n",
    "    x = 'axis-0',\n",
    "    # y = 'axis-1',\n",
    "    hue = 'Method',\n",
    "    palette = sns.color_palette(\"Set1\", 3),\n",
    "    data = tsne_df,\n",
    "    legend = \"full\",\n",
    ")\n",
    "\n",
    "plt.title(\"Generated Skill Distribution\")\n",
    "plt.show()"
   ],
   "metadata": {
    "collapsed": false,
    "pycharm": {
     "name": "#%%\n"
    }
   }
  },
  {
   "cell_type": "code",
   "execution_count": null,
   "outputs": [],
   "source": [
    "df.groupby(['Target_WinRate', 'Method'])['Method', 'Error_WinRate', 'Result[0]'].agg({'Result[0]':['mean','std'],\n",
    "                                                                         'Error_WinRate':['mean','std']})\n",
    "\n",
    "\n",
    "\n",
    "pd.options.display.float_format = '{:,.2f}'.format\n",
    "import numpy as np\n",
    "from matplotlib import cm\n",
    "top = cm.get_cmap('Oranges_r', 512)\n",
    "bottom = cm.get_cmap('Blues', 512)\n",
    "newcolors = np.vstack((top(np.linspace(0, 1, 512)),\n",
    "                       bottom(np.linspace(0, 1, 512))))\n",
    "newcolors = newcolors[:, :3]\n",
    "\n",
    "MIN = 0\n",
    "MAX = 1\n",
    "\n",
    "\n",
    "cmap = plt.cm.get_cmap('RdBu_r')\n",
    "\n",
    "def rgb_to_hex(r, g, b):\n",
    "\n",
    "    r, g, b = int(r * 255), int(g * 255), int(b * 255)\n",
    "    return hex(r)[2:].zfill(2) + hex(g)[2:].zfill(2) + hex(b)[2:].zfill(2)\n",
    "\n",
    "def styler_2(col):\n",
    "\n",
    "    cmap = plt.cm.get_cmap('RdBu_r')\n",
    "    means = col.groupby(level=0).transform('min')\n",
    "\n",
    "    if col.name[0] != 'Result[0]':\n",
    "\n",
    "        text_bold = ((col <= means).map({\n",
    "            True: 'textbf:--rwrap;',\n",
    "            False: ''\n",
    "        })).to_list()\n",
    "    else:\n",
    "        text_bold = ['' for _ in col]\n",
    "\n",
    "    colors = list()\n",
    "    for row, bf_str in zip(col, text_bold):\n",
    "\n",
    "        font_color = 'white' if abs(row) > 0.4 else 'black'\n",
    "\n",
    "        _val = row - 0.15\n",
    "        _val = _val + 0.5\n",
    "        hex_code = rgb_to_hex(*list(cmap(_val))[:3])\n",
    "\n",
    "        tag = 'cellcolor:[HTML]{' + hex_code + '}; color:{' + font_color + '}; ' + bf_str\n",
    "        colors.append(tag)\n",
    "    return colors\n",
    "\n",
    "error_result = df.groupby(['Target_WinRate', 'Method'])['Method', 'Error_WinRate', 'Result[0]'].agg({'Result[0]':['mean','std'],\n",
    "                                                                         'Error_WinRate':['mean','std']})\n",
    "styled_table = error_result.style.apply(styler_2).format(precision=3)\n",
    "\n",
    "def concat_mean_std(latex_rows, start_row_num, end_row_num, column_num):\n",
    "\n",
    "    for row_num in range(start_row_num, end_row_num):\n",
    "        columns = latex_rows[row_num].split('&')\n",
    "        first_column = columns[column_num]\n",
    "        second_column = columns[column_num + 1]\n",
    "\n",
    "        def _find_value(val):\n",
    "            pattern = r\"(\\d+\\.\\d+)\"\n",
    "\n",
    "            match = re.search(pattern, val)\n",
    "\n",
    "            extracted_float = match.group()\n",
    "            return extracted_float\n",
    "\n",
    "        first_val = _find_value(first_column)\n",
    "        second_val = _find_value(second_column)\n",
    "\n",
    "        if second_column.find('\\\\\\\\') != -1:\n",
    "            row_break = ' \\\\\\\\'\n",
    "        else:\n",
    "            row_break = ''\n",
    "\n",
    "        first_column = first_column.replace(first_val, '{' + first_val + '} ($\\pm{}$' + second_val + ')')\n",
    "\n",
    "        output = \"\\multicolumn{2}{c}{%s} %s\" % (first_column, row_break)\n",
    "\n",
    "\n",
    "        columns[column_num] = output\n",
    "        del columns[column_num + 1]\n",
    "\n",
    "        latex_rows[row_num] = '&'.join(columns)\n",
    "    return latex_rows\n",
    "\n",
    "with open('skill_controllable_table.tex', 'w') as f:\n",
    "    latex_str = styled_table.to_latex(position_float='centering',\n",
    "                                      multicol_align=\"c\",\n",
    "                                      hrules=True)\n",
    "    latex_str = latex_str.replace('Target_WinRate', '\\\\begin{tabular}[x]{@{}c@{}}Target\\\\\\\\($W_{t}$)\\end{tabular}')\n",
    "    latex_str = latex_str.replace('Error_WinRate', 'RMSE (\\|$W_{t}-W_{c}$\\|, $\\downarrow{}$)')\n",
    "    latex_str = latex_str.replace('{mean} & {std}', '\\multicolumn{2}{c}{Mean ($\\pm{}$SD)}')\n",
    "    latex_str = latex_str.replace('Result[0]', 'Generated ($W_{c}$)')\n",
    "    latex_str = latex_str.replace('llrrrr', 'cl|cc|cc')\n",
    "    latex_str = latex_str.replace('\\\\begin{table}', '\\\\begin{table}[!h]')\n",
    "    latex_list = latex_str.splitlines()\n",
    "\n",
    "    latex_list = concat_mean_std(latex_list, start_row_num=10, end_row_num=25, column_num=2)\n",
    "    latex_list = concat_mean_std(latex_list, start_row_num=10, end_row_num=25, column_num=3)\n",
    "\n",
    "    i = 12\n",
    "    while i < len(latex_list) - 4:\n",
    "        latex_list.insert(i, '\\midrule')\n",
    "        i += 4\n",
    "\n",
    "    latex_str = '\\n'.join(latex_list)\n",
    "\n",
    "    f.write(latex_str)\n"
   ],
   "metadata": {
    "collapsed": false,
    "pycharm": {
     "name": "#%%\n"
    }
   }
  },
  {
   "cell_type": "code",
   "execution_count": null,
   "outputs": [],
   "source": [
    "skill_df = origin_df.copy()\n",
    "'''\n",
    "_lastGeneratedSkill[7] += rangeTick * act[0];\n",
    "_lastGeneratedSkill[8] += coolTick * act[1];\n",
    "_lastGeneratedSkill[9] += castTimeTick * act[2];\n",
    "_lastGeneratedSkill[15] += valueTick * act[3];\n",
    "'''\n",
    "\n",
    "skill_df = skill_df[[\"StepCount\", \"Method\", \"Target_WinRate\",\n",
    "                       \"Content[7]\", \"Content[8]\", \"Content[9]\", \"Content[15]\"]]\n",
    "skill_df.rename(columns = {\"Content[7]\": \"Range\", \"Content[8]\": \"Cool Time\", \"Content[9]\": \"Cast Time\", \"Content[15]\": \"Damage\"}, inplace = True)\n",
    "\n",
    "tsne_np = TSNE(n_components=1).fit_transform(skill_df[[\"Range\", \"Cool Time\", \"Cast Time\", \"Damage\"]])\n",
    "pca_np = TSNE(n_components=3).fit_transform(skill_df[[\"Range\", \"Cool Time\", \"Cast Time\", \"Damage\"]])\n",
    "\n",
    "skill_df['t-SNE'] = tsne_np.flatten()\n",
    "skill_df = skill_df.reset_index()\n",
    "\n",
    "tsne_df = skill_df.copy()"
   ],
   "metadata": {
    "collapsed": false,
    "pycharm": {
     "name": "#%%\n"
    }
   }
  },
  {
   "cell_type": "code",
   "execution_count": null,
   "outputs": [],
   "source": [
    "import numpy as np\n",
    "from matplotlib import cm\n",
    "top = cm.get_cmap('Oranges_r', 512)\n",
    "bottom = cm.get_cmap('Blues', 512)\n",
    "newcolors = np.vstack((top(np.linspace(0, 1, 512)),\n",
    "                       bottom(np.linspace(0, 1, 512))))\n",
    "newcolors = newcolors[:, :3]\n",
    "\n",
    "MIN = 0\n",
    "MAX = 1\n",
    "\n",
    "\n",
    "\n",
    "cmap = plt.cm.get_cmap('RdBu_r')\n",
    "\n",
    "def rgb_to_hex(r, g, b):\n",
    "\n",
    "    r, g, b = int(r * 255), int(g * 255), int(b * 255)\n",
    "    return hex(r)[2:].zfill(2) + hex(g)[2:].zfill(2) + hex(b)[2:].zfill(2)\n",
    "\n",
    "\n",
    "color_map = {\n",
    "    'Range': plt.cm.get_cmap('Blues'),\n",
    "    'Cool Time': plt.cm.get_cmap('Oranges'),\n",
    "    'Cast Time': plt.cm.get_cmap('Greens'),\n",
    "    'Damage': plt.cm.get_cmap('Reds'),\n",
    "    't-SNE': plt.cm.get_cmap('Greys'),\n",
    "}\n",
    "\n",
    "\n",
    "def styler_3(col):\n",
    "\n",
    "    means = col.groupby(level=0).transform('mean')\n",
    "    cmap = color_map[col.name[0]]\n",
    "\n",
    "    min_val, max_val = min(col), max(col)\n",
    "\n",
    "    def _minmax_scaler(val):\n",
    "        return (val - min_val) / (max_val - min_val)\n",
    "\n",
    "    text_bold = ((col >= means).map({\n",
    "        True: 'textbf:--rwrap;',\n",
    "        False: ''\n",
    "    })).to_list()\n",
    "\n",
    "    colors = list()\n",
    "    for row, bf_str in zip(col, text_bold):\n",
    "        scaled = _minmax_scaler(row) * 0.4\n",
    "        hex_code = rgb_to_hex(*list(cmap(scaled))[:3])\n",
    "        font_color = 'white' if abs(scaled) > 0.4 else 'black'\n",
    "        tag = 'cellcolor:[HTML]{' + hex_code + '}; color:{' + font_color + '}; ' + bf_str\n",
    "        colors.append(tag)\n",
    "\n",
    "    return colors\n",
    "\n",
    "result = tsne_df.groupby(['Target_WinRate', 'Method'])['Method', 'Range', 'Cool Time', 'Cast Time', 'Damage', 't-SNE'].agg(\n",
    "    {'Range':['std'], 'Cool Time':['std'], 'Cast Time':['std'], 'Damage':['std'], 't-SNE':['std']})\n",
    "\n",
    "styled_table = result.style.apply(styler_3).format(precision=2)\n",
    "\n",
    "with open('skill_diversity_small.tex', 'w') as f:\n",
    "    latex_str = styled_table.to_latex(position_float='centering',\n",
    "                                      multicol_align=\"c\",\n",
    "                                      hrules=True)\n",
    "    latex_str = latex_str.replace('Target_WinRate', '\\\\begin{tabular}[x]{@{}c@{}}Target\\\\\\\\($W_{t}$)\\end{tabular}')\n",
    "    latex_str = latex_str.replace('llrrrrr', 'cl|cccc|c')\n",
    "\n",
    "    latex_str = latex_str.replace('Cool Time', '\\\\begin{tabular}[x]{@{}c@{}}Cool\\\\\\\\Time\\end{tabular}')\n",
    "    latex_str = latex_str.replace('Cast Time', '\\\\begin{tabular}[x]{@{}c@{}}Cast\\\\\\\\Time\\end{tabular}')\n",
    "    latex_str = latex_str.replace('{std}', '{($\\pm$SD)}')\n",
    "    latex_str = latex_str.replace('\\\\begin{table}', '\\\\begin{table}[!h]')\n",
    "    # latex_str = latex_str.replace('Heuristic', 'HR')\n",
    "    # latex_str = latex_str.replace('Random', 'RD')\n",
    "    latex_list = latex_str.splitlines()\n",
    "\n",
    "    i = 11\n",
    "    while i < len(latex_list) - 4:\n",
    "        latex_list.insert(i, '\\midrule')\n",
    "        i += 4\n",
    "\n",
    "\n",
    "    latex_str = '\\n'.join(latex_list)\n",
    "    f.write(latex_str)\n",
    "\n",
    "result"
   ],
   "metadata": {
    "collapsed": false,
    "pycharm": {
     "name": "#%%\n"
    }
   }
  },
  {
   "cell_type": "code",
   "execution_count": null,
   "outputs": [],
   "source": [
    "c_skill_df = skill_df.copy()\n",
    "c_skill_df = pd.melt(c_skill_df, id_vars=['EpisodeCount', 'StepCount', 'Method', 'Target_WinRate'],\n",
    "                             var_name='Parameter', value_name='Value')\n",
    "c_skill_df"
   ],
   "metadata": {
    "collapsed": false,
    "pycharm": {
     "name": "#%%\n"
    }
   }
  },
  {
   "cell_type": "code",
   "execution_count": null,
   "outputs": [],
   "source": [
    "c_skill_df[c_skill_df[\"Target_WinRate\"] == 0.1]"
   ],
   "metadata": {
    "collapsed": false,
    "pycharm": {
     "name": "#%%\n"
    }
   }
  },
  {
   "cell_type": "code",
   "execution_count": null,
   "outputs": [],
   "source": [
    "import numpy as np\n",
    "sns.set_theme(style=\"whitegrid\")\n",
    "\n",
    "x_jitter = np.random.normal(0, 0.3, size=len(c_skill_df))\n",
    "y_jitter = np.random.normal(0, 0.3, size=len(c_skill_df))\n",
    "\n",
    "f, ax = plt.subplots(figsize=(6, 4))\n",
    "clarity_ranking = [\"PPO\", \"Heuristic\", \"Random\"]\n",
    "sns.boxplot(x=\"Parameter\", y=\"Value\",\n",
    "                hue=\"Method\",\n",
    "                # size=None,\n",
    "                # palette=\"ch:r=-.2,d=.3_r\",\n",
    "                # inner=\"quart\",\n",
    "                hue_order=clarity_ranking,\n",
    "                # sizes=(1, 8),\n",
    "                # linewidth=0,\n",
    "                # alpha=0.1,\n",
    "                data=c_skill_df[c_skill_df[\"Target_WinRate\"] == 0.1], ax=ax)\n",
    "sns.despine(left=True)\n"
   ],
   "metadata": {
    "collapsed": false,
    "pycharm": {
     "name": "#%%\n"
    }
   }
  },
  {
   "cell_type": "code",
   "execution_count": null,
   "outputs": [],
   "source": [
    "skill_df = origin_df.copy()\n",
    "'''\n",
    "_lastGeneratedSkill[7] += rangeTick * act[0];\n",
    "_lastGeneratedSkill[8] += coolTick * act[1];\n",
    "_lastGeneratedSkill[9] += castTimeTick * act[2];\n",
    "_lastGeneratedSkill[15] += valueTick * act[3];\n",
    "'''\n",
    "\n",
    "skill_df = skill_df[[\"StepCount\", \"Method\", \"Target_WinRate\", \"Error_WinRate\",\n",
    "                       \"Content[7]\", \"Content[8]\", \"Content[9]\", \"Content[15]\"]]\n",
    "skill_df.rename(columns = {\"Content[7]\": \"Range\", \"Content[8]\": \"Cool Time\", \"Content[9]\": \"Cast Time\", \"Content[15]\": \"Damage\"}, inplace = True)\n",
    "\n",
    "\n",
    "skill_df = skill_df[(skill_df[\"Error_WinRate\"] < 0.1)]\n",
    "skill_df = skill_df[(skill_df[\"Method\"] == \"RL\")]\n",
    "tsne_np = TSNE(n_components=3).fit_transform(skill_df[[\"Range\", \"Cool Time\", \"Cast Time\", \"Damage\"]])\n",
    "pca_np = PCA(n_components=3).fit_transform(skill_df[[\"Range\", \"Cool Time\", \"Cast Time\", \"Damage\"]])\n"
   ],
   "metadata": {
    "collapsed": false,
    "pycharm": {
     "name": "#%%\n"
    }
   }
  },
  {
   "cell_type": "code",
   "execution_count": null,
   "outputs": [],
   "source": [
    "import matplotlib.pyplot as plt\n",
    "import pandas as pd\n",
    "import seaborn as sns\n",
    "from mpl_toolkits.mplot3d import Axes3D\n",
    "\n",
    "fig = plt.figure(figsize=(6, 7))\n",
    "ax = fig.add_subplot(projection='3d')\n",
    "\n",
    "palette = sns.color_palette(\"bright\", 7)\n",
    "TARGET_WINRATE = [0.1, 0.2, 0.3, 0.4, 0.5, 0.6, 0.7]\n",
    "\n",
    "for i, item in enumerate(TARGET_WINRATE):\n",
    "    print(item)\n",
    "    c = palette[i]\n",
    "\n",
    "    index = skill_df[\"Target_WinRate\"] == item\n",
    "\n",
    "    ax.scatter(tsne_np[index,0], tsne_np[index,1], tsne_np[index,2], s=5.0, marker='o', c=c)\n",
    "\n",
    "\n",
    "# sns.scatterplot(tsne_np[:,0], tsne_np[:,1], tsne_np[:,2],\n",
    "#                 hue=skill_df.Target_WinRate,\n",
    "#                 legend='full',\n",
    "#                 palette=palette,\n",
    "#                 style=skill_df.Method)\n",
    "plt.show()"
   ],
   "metadata": {
    "collapsed": false,
    "pycharm": {
     "name": "#%%\n"
    }
   }
  },
  {
   "cell_type": "code",
   "execution_count": null,
   "outputs": [],
   "source": [
    "corr_df = origin_df.copy()\n",
    "'''\n",
    "_lastGeneratedSkill[7] += rangeTick * act[0];\n",
    "_lastGeneratedSkill[8] += coolTick * act[1];\n",
    "_lastGeneratedSkill[9] += castTimeTick * act[2];\n",
    "_lastGeneratedSkill[15] += valueTick * act[3];\n",
    "'''\n",
    "\n",
    "corr_df = corr_df[[\"StepCount\", \"Method\", \"Target_WinRate\", \"Error_WinRate\",\n",
    "                       \"Content[7]\", \"Content[8]\", \"Content[9]\", \"Content[15]\"]]\n",
    "\n",
    "corr_df.rename(columns = {\"Content[7]\": \"Range\", \"Content[8]\": \"Cool Time\", \"Content[9]\": \"Cast Time\", \"Content[15]\": \"Damage\"}, inplace = True)\n",
    "corr_df = corr_df[(corr_df[\"Method\"] == \"Heuristic\")]\n",
    "\n",
    "\n",
    "# 그림 사이즈 지정\n",
    "fig, ax = plt.subplots( figsize=(7,7) )\n",
    "\n",
    "# 삼각형 마스크를 만든다(위 쪽 삼각형에 True, 아래 삼각형에 False)\n",
    "mask = np.zeros_like(corr_df.corr(), dtype=np.bool)\n",
    "mask[np.triu_indices_from(mask)] = True\n",
    "\n",
    "# 히트맵을 그린다\n",
    "sns.heatmap(df,\n",
    "            cmap = 'RdYlBu_r',\n",
    "            annot = True,   # 실제 값을 표시한다\n",
    "            mask=mask,      # 표시하지 않을 마스크 부분을 지정한다\n",
    "            linewidths=.5,  # 경계면 실선으로 구분하기\n",
    "            cbar_kws={\"shrink\": .5},# 컬러바 크기 절반으로 줄이기\n",
    "            vmin = -1,vmax = 1   # 컬러바 범위 -1 ~ 1\n",
    "           )\n",
    "plt.show()"
   ],
   "metadata": {
    "collapsed": false,
    "pycharm": {
     "name": "#%%\n"
    }
   }
  },
  {
   "cell_type": "code",
   "execution_count": null,
   "outputs": [],
   "source": [
    "corr_df = origin_df.copy()\n",
    "corr_df = corr_df[[\"StepCount\", \"Method\", \"Target_WinRate\", \"Error_WinRate\",\n",
    "                       \"Content[7]\", \"Content[8]\", \"Content[9]\", \"Content[15]\"]]\n",
    "corr_df.rename(columns = {\"Content[7]\": \"Range\", \"Content[8]\": \"Cool Time\", \"Content[9]\": \"Cast Time\", \"Content[15]\": \"Damage\"}, inplace = True)\n",
    "\n",
    "\n",
    "tmp_dict = {'Method': [], 'Target': [], 'Range': [], 'Cool Time': [], 'Cast Time': [], 'Damage': []}\n",
    "\n",
    "for method in METHODS:\n",
    "    for win_rate in TARGET_WINRATE:\n",
    "        _df = corr_df[(corr_df[\"Target_WinRate\"] == win_rate) & (corr_df[\"Method\"] == method)]\n",
    "        _df_dict = _df.corr()['Error_WinRate'].to_dict()\n",
    "\n",
    "        tmp_dict['Method'].append(method)\n",
    "        tmp_dict['Target'].append(win_rate)\n",
    "        tmp_dict['Range'].append(_df_dict['Range'])\n",
    "        tmp_dict['Cool Time'].append(_df_dict['Cool Time'])\n",
    "        tmp_dict['Cast Time'].append(_df_dict['Cast Time'])\n",
    "        tmp_dict['Damage'].append(_df_dict['Damage'])\n",
    "\n",
    "corr_df = pd.DataFrame(tmp_dict)\n",
    "corr_df = corr_df.groupby(['Method', 'Target'])['Range', 'Cool Time', 'Cast Time', 'Damage'].mean()\n",
    "print(corr_df)\n",
    "\n",
    "\n",
    "cmap = plt.cm.get_cmap('RdBu_r')\n",
    "\n",
    "def rgb_to_hex(r, g, b):\n",
    "    r, g, b = int(r * 255), int(g * 255), int(b * 255)\n",
    "    return hex(r)[2:].zfill(2) + hex(g)[2:].zfill(2) + hex(b)[2:].zfill(2)\n",
    "\n",
    "def styler_2(val):\n",
    "    font_color = 'white' if abs(val) > 0.4 else 'black'\n",
    "    val = val + 0.5\n",
    "    return 'cellcolor:[HTML]{' + rgb_to_hex(*list(cmap(val))[:3]) + '}; color:{' + font_color + '};'\n",
    "\n",
    "styled_table = corr_df.style.applymap(styler_2).format(precision=2)\n",
    "\n",
    "with open('skill_correlation.tex', 'w') as f:\n",
    "    latex_str = styled_table.to_latex(position_float='centering',\n",
    "                                      multicol_align=\"c\",\n",
    "                                      hrules=True)\n",
    "    latex_str = latex_str.replace('llrrrr', 'lc|cccc')\n",
    "    latex_list = latex_str.splitlines()\n",
    "\n",
    "    i = 14\n",
    "    while i < len(latex_list) - 7:\n",
    "        latex_list.insert(i, '\\midrule')\n",
    "        i += 8\n",
    "\n",
    "    latex_str = '\\n'.join(latex_list)\n",
    "\n",
    "    f.write(latex_str)"
   ],
   "metadata": {
    "collapsed": false,
    "pycharm": {
     "name": "#%%\n"
    }
   }
  }
 ],
 "metadata": {
  "kernelspec": {
   "display_name": "Python 3",
   "language": "python",
   "name": "python3"
  },
  "language_info": {
   "codemirror_mode": {
    "name": "ipython",
    "version": 2
   },
   "file_extension": ".py",
   "mimetype": "text/x-python",
   "name": "python",
   "nbconvert_exporter": "python",
   "pygments_lexer": "ipython2",
   "version": "2.7.6"
  }
 },
 "nbformat": 4,
 "nbformat_minor": 0
}